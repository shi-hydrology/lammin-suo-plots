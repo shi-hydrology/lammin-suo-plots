{
 "cells": [
  {
   "cell_type": "code",
   "execution_count": 1,
   "metadata": {},
   "outputs": [],
   "source": [
    "import os.path\n",
    "import pandas as pd\n",
    "import numpy as np\n",
    "import pymannkendall as mk\n",
    "pd.options.mode.chained_assignment = None  # default='warn'\n",
    "\n",
    "work_dir = os.path.join(globals()['_dh'][0], \"data\")\n",
    "\n",
    "SHIFT = 2  # to start hydrological year from November (more useful for Lammin Suo)"
   ]
  },
  {
   "cell_type": "code",
   "execution_count": 2,
   "metadata": {},
   "outputs": [],
   "source": [
    "def prepare(f, v=False):\n",
    "    df = pd.read_csv(f, comment='#')\n",
    "    try:\n",
    "        datetimes = pd.to_datetime(df[\"DATE_TIME\"])\n",
    "    except KeyError:\n",
    "        df.rename(columns={\"START_DATE\": \"DATE_TIME\"}, inplace=True)\n",
    "        datetimes = pd.to_datetime(df[\"DATE_TIME\"])\n",
    "    df[\"DATE_TIME\"] = datetimes\n",
    "    df.set_index(\"DATE_TIME\", inplace=True)\n",
    "    if v:\n",
    "        df.info()\n",
    "    return df"
   ]
  },
  {
   "cell_type": "code",
   "execution_count": 8,
   "metadata": {},
   "outputs": [],
   "source": [
    "def test_my_data(series):\n",
    "    out = mk.original_test(series)\n",
    "    print(\"%s trend\" % out.trend)\n",
    "    print(\"p-value: %.2f\" % out.p)\n",
    "    print(\"Theil-Sen estimator/slope: %.3f\" % out.slope)"
   ]
  },
  {
   "cell_type": "markdown",
   "metadata": {},
   "source": [
    "### Air temperature:"
   ]
  },
  {
   "cell_type": "code",
   "execution_count": 19,
   "metadata": {},
   "outputs": [
    {
     "name": "stdout",
     "output_type": "stream",
     "text": [
      "increasing trend\n",
      "p-value: 0.01\n",
      "Theil-Sen estimator/slope: 0.019\n",
      "increasing trend\n",
      "p-value: 0.00\n",
      "Theil-Sen estimator/slope: 0.104\n"
     ]
    }
   ],
   "source": [
    "f = \"meteo_daily_1952-2020_WS1.csv\"\n",
    "\n",
    "tmp = prepare(os.path.join(work_dir, f))\n",
    "\n",
    "df = tmp.loc[(tmp.index.year >= 1950) & (tmp.index.year <= 2021)]\n",
    "\n",
    "df = df.resample(\"M\").agg({\"MEAN_AIR_TEMP\": np.mean})\n",
    "df = df.shift()  # so the calendar year will start with the previous Dec, needed for resampling by Q\n",
    "df = df.resample(\"Q\").agg({\"MEAN_AIR_TEMP\": np.mean})  # 1st Q is the winter, 3rd Q is the summer\n",
    "\n",
    "summer = df.loc[df.index.month == 9]\n",
    "summer[\"HYDRO_YEAR\"] = (summer.index.year - 1).astype(str) + \"/\" + summer.index.year.astype(str)\n",
    "# display(summer)\n",
    "\n",
    "test_my_data(summer[\"MEAN_AIR_TEMP\"])\n",
    "\n",
    "winter = df.loc[df.index.month == 3]\n",
    "winter[\"HYDRO_YEAR\"] = (winter.index.year - 1).astype(str) + \"/\" + winter.index.year.astype(str)\n",
    "winter = winter.loc[winter.index.year > 1952]  # since first hydro year is truncated: Dec 1951 was not observed\n",
    "winter = winter.loc[winter.index.year >= 1976]\n",
    "# display(winter)\n",
    "\n",
    "test_my_data(winter[\"MEAN_AIR_TEMP\"])"
   ]
  },
  {
   "cell_type": "markdown",
   "metadata": {},
   "source": [
    "### Precipitation:"
   ]
  },
  {
   "cell_type": "code",
   "execution_count": 16,
   "metadata": {},
   "outputs": [
    {
     "name": "stdout",
     "output_type": "stream",
     "text": [
      "increasing trend\n",
      "p-value: 0.00\n",
      "Theil-Sen estimator/slope: 3.638\n",
      "decreasing trend\n",
      "p-value: 0.03\n",
      "Theil-Sen estimator/slope: -0.126\n"
     ]
    }
   ],
   "source": [
    "f = \"precipitation_daily_1952-2020.csv\"\n",
    "\n",
    "tmp = prepare(os.path.join(work_dir, f))\n",
    "\n",
    "df = tmp.loc[tmp[\"GAUGE_NO\"] == \"P1\"]\n",
    "\n",
    "df[\"P_TOTAL\"] = df[\"PRECIPITATION\"]\n",
    "df[\"P_LIQUID\"] = np.where(df[\"SOLID\"] == 0, df[\"PRECIPITATION\"], np.nan)\n",
    "df[\"P_SOLID\"] = np.where(df[\"SOLID\"] == 1, df[\"PRECIPITATION\"], np.nan)\n",
    "df = df.resample('M').sum()\n",
    "# print(df)\n",
    "\n",
    "# Shifting all the columns to obtain hydrological years instead of calendar:\n",
    "df[\"P_TOTAL\"] = df[\"P_TOTAL\"].shift(SHIFT)\n",
    "df[\"P_LIQUID\"] = df[\"P_LIQUID\"].shift(SHIFT)\n",
    "df[\"P_SOLID\"] = df[\"P_SOLID\"].shift(SHIFT)\n",
    "# print(df)\n",
    "\n",
    "df = df.resample('Y').sum()\n",
    "df[\"HYDRO_YEAR\"] = (df.index.year - 1).astype(str) + \"/\" + df.index.year.astype(str)\n",
    "df = df.iloc[1:]  # since first hydro year is truncated (there is no Oct-Dec of 1951 in dataset)\n",
    "\n",
    "df.loc[df[\"P_LIQUID\"] == 0, \"P_LIQUID\"] = np.nan\n",
    "df.loc[df[\"P_SOLID\"] == 0, \"P_SOLID\"] = np.nan\n",
    "\n",
    "df[\"SP\"] = df[\"P_SOLID\"] / df[\"P_TOTAL\"]  # S/P ratio\n",
    "df.loc[df[\"SP\"] == 0, \"SP\"] = np.nan\n",
    "\n",
    "# precipitation form is being recorded since Jan 1964\n",
    "# therefore the hydro year 1963/1964 is not \"complete\" and should be ommitted:\n",
    "df.loc[df[\"HYDRO_YEAR\"] == \"1963/1964\", \"P_SOLID\"] = np.nan\n",
    "df.loc[df[\"HYDRO_YEAR\"] == \"1963/1964\", \"P_LIQUID\"] = np.nan\n",
    "df.loc[df[\"HYDRO_YEAR\"] == \"1963/1964\", \"SP\"] = np.nan\n",
    "\n",
    "# display(df)\n",
    "\n",
    "test_my_data(df[\"PRECIPITATION\"])\n",
    "\n",
    "test_my_data(df[\"SP\"]*100)  # k = 100 to obtai percents from 0..1 range"
   ]
  },
  {
   "cell_type": "markdown",
   "metadata": {},
   "source": [
    "### Peat temperature:"
   ]
  },
  {
   "cell_type": "code",
   "execution_count": 23,
   "metadata": {},
   "outputs": [
    {
     "name": "stdout",
     "output_type": "stream",
     "text": [
      "increasing trend\n",
      "p-value: 0.00\n",
      "Theil-Sen estimator/slope: 0.062\n",
      "increasing trend\n",
      "p-value: 0.00\n",
      "Theil-Sen estimator/slope: 0.024\n"
     ]
    }
   ],
   "source": [
    "f = \"peat-temp_hourly_1976-2020.csv\"\n",
    "\n",
    "tmp = prepare(os.path.join(work_dir, f))\n",
    "\n",
    "tmp = tmp.loc[tmp[\"QC\"] != 0]\n",
    "tmp = tmp.loc[tmp.index.hour == 15]\n",
    "tmp = tmp.loc[tmp[\"SITE\"] == \"PT1\"]\n",
    "\n",
    "# PEAT SURFACE\n",
    "df = tmp.loc[tmp[\"DEPTH\"] == 0]\n",
    "# print(df)\n",
    "df = df.resample(\"A\")[\"PEAT_TEMP\"].agg([\"mean\", \"max\"])\n",
    "# display(df)\n",
    "\n",
    "test_my_data(df[\"mean\"])  # peat surface\n",
    "\n",
    "df = tmp.loc[tmp[\"DEPTH\"] == 320]\n",
    "df = df.resample(\"A\")[\"PEAT_TEMP\"].agg([\"mean\"])\n",
    "\n",
    "test_my_data(df[\"mean\"])  # max available depth of 320 cm"
   ]
  },
  {
   "cell_type": "markdown",
   "metadata": {},
   "source": [
    "### Groundwater temperature:"
   ]
  },
  {
   "cell_type": "code",
   "execution_count": 28,
   "metadata": {},
   "outputs": [
    {
     "name": "stdout",
     "output_type": "stream",
     "text": [
      "['G359', 'G365', 'G366', 'G367', 'G375', 'G376', 'G377', 'G379']\n",
      "increasing trend\n",
      "p-value: 0.00\n",
      "Theil-Sen estimator/slope: 0.027\n"
     ]
    }
   ],
   "source": [
    "f = \"groundwater-temp_daily_1974-2020.csv\"\n",
    "\n",
    "tmp = prepare(os.path.join(work_dir, f))\n",
    "tmp.sort_index(inplace=True)\n",
    "\n",
    "wells = sorted(tmp[\"GW_WELL\"].unique())\n",
    "# print(\"All the gw-wells in the dataset:\", wells)\n",
    "\n",
    "longest_series = []\n",
    "for w in wells:\n",
    "    df = tmp.loc[tmp[\"GW_WELL\"] == w]\n",
    "    obs_num = len(df.index)\n",
    "    if obs_num >= 1661:\n",
    "        longest_series.append(w)\n",
    "print(longest_series)\n",
    "\n",
    "df = tmp.loc[tmp[\"GW_WELL\"].isin(longest_series)]\n",
    "df = df.resample(\"AS-NOV\")[\"GW_TEMP\"].agg([\"mean\", \"max\", \"min\", \"std\"])\n",
    "df[\"HYDRO_YEAR\"] = (df.index.year - 1).astype(str) + \"/\" + df.index.year.astype(str)\n",
    "# display(df)\n",
    "\n",
    "test_my_data(df[\"mean\"])"
   ]
  },
  {
   "cell_type": "markdown",
   "metadata": {},
   "source": [
    "### Discharges:"
   ]
  },
  {
   "cell_type": "code",
   "execution_count": 31,
   "metadata": {},
   "outputs": [
    {
     "name": "stdout",
     "output_type": "stream",
     "text": [
      "no trend trend\n",
      "p-value: 0.06\n",
      "Theil-Sen estimator/slope: 1.561\n"
     ]
    }
   ],
   "source": [
    "f = \"water-discharge_daily_1950-2020.csv\"\n",
    "\n",
    "# watershed areas are: 1.18, 0.32, 0.37, 0.10 sq. km for S, W1+W2, N, E\n",
    "basin_area = 1.18 + 0.32 + 0.37 + 0.10\n",
    "\n",
    "df = prepare(os.path.join(work_dir, f))\n",
    "\n",
    "df = df.loc[df[\"SITE\"].isin((\"Western-1\", \"Western-2\", \"Northern\", \"Southern\"))]\n",
    "df = df.loc[df.index.year >= 1955]\n",
    "df[\"VOLUME\"] = df[\"DISCHARGE\"] * 86400 / 1000000  # cubic cm -> cubic m\n",
    "\n",
    "df = df.resample(\"AS-NOV\").agg(\"sum\")\n",
    "df[\"HYDRO_YEAR\"] = df.index.year.astype(str) + \"/\" + (df.index.year + 1).astype(str)\n",
    "df = df.loc[df.index.year < 2020]\n",
    "# display(df)\n",
    "\n",
    "test_my_data(df[\"VOLUME\"] / 1000 / basin_area)"
   ]
  }
 ],
 "metadata": {
  "kernelspec": {
   "display_name": "Python (geo3)",
   "language": "python",
   "name": "geo3"
  },
  "language_info": {
   "codemirror_mode": {
    "name": "ipython",
    "version": 3
   },
   "file_extension": ".py",
   "mimetype": "text/x-python",
   "name": "python",
   "nbconvert_exporter": "python",
   "pygments_lexer": "ipython3",
   "version": "3.9.1"
  }
 },
 "nbformat": 4,
 "nbformat_minor": 4
}
